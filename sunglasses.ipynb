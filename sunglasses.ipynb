{
 "cells": [
  {
   "cell_type": "code",
   "execution_count": 1,
   "metadata": {},
   "outputs": [],
   "source": "import cv2"
  },
  {
   "cell_type": "code",
   "execution_count": 2,
   "metadata": {},
   "outputs": [],
   "source": "import numpy as np"
  },
  {
   "cell_type": "code",
   "execution_count": 3,
   "metadata": {},
   "outputs": [],
   "source": "import matplotlib.pyplot as plt"
  },
  {
   "cell_type": "code",
   "execution_count": 4,
   "metadata": {},
   "outputs": [
    {
     "name": "stderr",
     "output_type": "stream",
     "text": "Using TensorFlow backend.\n/home/skb/.local/lib/python3.6/site-packages/tensorflow/python/framework/dtypes.py:516: FutureWarning: Passing (type, 1) or '1type' as a synonym of type is deprecated; in a future version of numpy, it will be understood as (type, (1,)) / '(1,)type'.\n  _np_qint8 = np.dtype([(\"qint8\", np.int8, 1)])\n/home/skb/.local/lib/python3.6/site-packages/tensorflow/python/framework/dtypes.py:517: FutureWarning: Passing (type, 1) or '1type' as a synonym of type is deprecated; in a future version of numpy, it will be understood as (type, (1,)) / '(1,)type'.\n  _np_quint8 = np.dtype([(\"quint8\", np.uint8, 1)])\n/home/skb/.local/lib/python3.6/site-packages/tensorflow/python/framework/dtypes.py:518: FutureWarning: Passing (type, 1) or '1type' as a synonym of type is deprecated; in a future version of numpy, it will be understood as (type, (1,)) / '(1,)type'.\n  _np_qint16 = np.dtype([(\"qint16\", np.int16, 1)])\n/home/skb/.local/lib/python3.6/site-packages/tensorflow/python/framework/dtypes.py:519: FutureWarning: Passing (type, 1) or '1type' as a synonym of type is deprecated; in a future version of numpy, it will be understood as (type, (1,)) / '(1,)type'.\n  _np_quint16 = np.dtype([(\"quint16\", np.uint16, 1)])\n/home/skb/.local/lib/python3.6/site-packages/tensorflow/python/framework/dtypes.py:520: FutureWarning: Passing (type, 1) or '1type' as a synonym of type is deprecated; in a future version of numpy, it will be understood as (type, (1,)) / '(1,)type'.\n  _np_qint32 = np.dtype([(\"qint32\", np.int32, 1)])\n/home/skb/.local/lib/python3.6/site-packages/tensorflow/python/framework/dtypes.py:525: FutureWarning: Passing (type, 1) or '1type' as a synonym of type is deprecated; in a future version of numpy, it will be understood as (type, (1,)) / '(1,)type'.\n  np_resource = np.dtype([(\"resource\", np.ubyte, 1)])\n/home/skb/.local/lib/python3.6/site-packages/tensorboard/compat/tensorflow_stub/dtypes.py:541: FutureWarning: Passing (type, 1) or '1type' as a synonym of type is deprecated; in a future version of numpy, it will be understood as (type, (1,)) / '(1,)type'.\n  _np_qint8 = np.dtype([(\"qint8\", np.int8, 1)])\n/home/skb/.local/lib/python3.6/site-packages/tensorboard/compat/tensorflow_stub/dtypes.py:542: FutureWarning: Passing (type, 1) or '1type' as a synonym of type is deprecated; in a future version of numpy, it will be understood as (type, (1,)) / '(1,)type'.\n  _np_quint8 = np.dtype([(\"quint8\", np.uint8, 1)])\n/home/skb/.local/lib/python3.6/site-packages/tensorboard/compat/tensorflow_stub/dtypes.py:543: FutureWarning: Passing (type, 1) or '1type' as a synonym of type is deprecated; in a future version of numpy, it will be understood as (type, (1,)) / '(1,)type'.\n  _np_qint16 = np.dtype([(\"qint16\", np.int16, 1)])\n/home/skb/.local/lib/python3.6/site-packages/tensorboard/compat/tensorflow_stub/dtypes.py:544: FutureWarning: Passing (type, 1) or '1type' as a synonym of type is deprecated; in a future version of numpy, it will be understood as (type, (1,)) / '(1,)type'.\n  _np_quint16 = np.dtype([(\"quint16\", np.uint16, 1)])\n/home/skb/.local/lib/python3.6/site-packages/tensorboard/compat/tensorflow_stub/dtypes.py:545: FutureWarning: Passing (type, 1) or '1type' as a synonym of type is deprecated; in a future version of numpy, it will be understood as (type, (1,)) / '(1,)type'.\n  _np_qint32 = np.dtype([(\"qint32\", np.int32, 1)])\n/home/skb/.local/lib/python3.6/site-packages/tensorboard/compat/tensorflow_stub/dtypes.py:550: FutureWarning: Passing (type, 1) or '1type' as a synonym of type is deprecated; in a future version of numpy, it will be understood as (type, (1,)) / '(1,)type'.\n  np_resource = np.dtype([(\"resource\", np.ubyte, 1)])\n"
    }
   ],
   "source": "from mtcnn.mtcnn import MTCNN"
  },
  {
   "cell_type": "code",
   "execution_count": 5,
   "metadata": {},
   "outputs": [
    {
     "name": "stdout",
     "output_type": "stream",
     "text": "WARNING:tensorflow:From /home/skb/.local/lib/python3.6/site-packages/keras/backend/tensorflow_backend.py:4070: The name tf.nn.max_pool is deprecated. Please use tf.nn.max_pool2d instead.\n\n"
    }
   ],
   "source": "detector=MTCNN()"
  },
  {
   "cell_type": "code",
   "execution_count": 57,
   "metadata": {},
   "outputs": [],
   "source": "#sun=cv2.imread('../Pictures/ocv/sunglasses.png', cv2.IMREAD_UNCHANGED)\nsun=cv2.imread('../Pictures/ocv/blueglasses.png', cv2.IMREAD_UNCHANGED)\n\nsun2=sun\noverlay_mask=sun2[:,:,3:]\noverlay_img=sun2[:,:,:3]\nbackground_mask = 255 - overlay_mask\noverlay_mask = cv2.cvtColor(overlay_mask, cv2.COLOR_GRAY2BGR)\nbackground_mask = cv2.cvtColor(background_mask, cv2.COLOR_GRAY2BGR)\noverlay_part = (overlay_img * (1 / 255.0)) * (overlay_mask * (1 / 255.0))"
  },
  {
   "cell_type": "code",
   "execution_count": 79,
   "metadata": {},
   "outputs": [],
   "source": "#video=cv2.VideoCapture(0)\nvideo=cv2.VideoCapture('../Pictures/ocv/manface.mp4')\n\nc = 0\nwhile True:\n    ret, frame = video.read()\n    if not ret: break\n        \n      \n    result=detector.detect_faces(frame)\n    \n    \n    faces_no=len(result)\n    facebox=[]\n    lefteye=[]\n    righteye=[]\n    nose=[]\n    mouthleft=[]\n    mouthright=[]\n    \n    for i in range(0,faces_no):\n        facebox.append(result[i]['box'])\n        lefteye.append(result[i]['keypoints']['left_eye'])\n        righteye.append(result[i]['keypoints']['right_eye'])\n        nose.append(result[i]['keypoints']['nose'])\n        mouthleft.append(result[i]['keypoints']['mouth_left'])\n        mouthright.append(result[i]['keypoints']['mouth_right'])\n\n        #facebox.append(result[i]['box'])\n    \n    new_frame=(frame/255).astype(np.float32)\n    \n    for i in facebox:\n        cv2.rectangle(frame,(i[0],i[1]),((i[0]+i[2]),(i[1]+i[3])),(255, 0, 0),5)\n        sun_width=int(i[2])\n        sun_height=int(i[3]/3)\n        \n    for i in lefteye:\n        cv2.circle(frame,i,5,(255, 0, 0),5)\n        \n    for i in righteye:\n        cv2.circle(frame,i,5,(255, 0, 0),5)\n        \n    if(len(righteye)!=0):\n        sun2=cv2.resize(sun, (sun_width, sun_height)) \n        overlay_mask=sun2[:,:,3:]\n        overlay_img=sun2[:,:,:3]\n        background_mask = 255 - overlay_mask\n        overlay_mask = cv2.cvtColor(overlay_mask, cv2.COLOR_GRAY2BGR)\n        background_mask = cv2.cvtColor(background_mask, cv2.COLOR_GRAY2BGR)\n        overlay_part = (overlay_img * (1 / 255.0)) * (overlay_mask * (1 / 255.0))\n    \n        height,width,channels=sun2.shape\n        roi=frame[int(righteye[0][1]-(sun_height/3)):int(height+righteye[0][1]-(sun_height/3)),int(lefteye[0][0]-(sun_width/4)):int(width+lefteye[0][0]-(sun_width/4))]\n        #roi=frame[0:height,0:width]\n        face_part = (roi * (1 / 255.0)) * (background_mask * (1 / 255.0))\n        dst=cv2.add(face_part,overlay_part)\n        new_frame[int(righteye[0][1]-(sun_height/3)):int(height+righteye[0][1]-(sun_height/3)),int(lefteye[0][0]-(sun_width/4)):int(width+lefteye[0][0]-(sun_width/4))]=dst\n        #new_frame[0:height,0:width]=dst\n    \n    cv2.namedWindow('frame',cv2.WINDOW_NORMAL)\n    cv2.resizeWindow('frame',600,600)\n    cv2.imshow('frame', new_frame)\n    key = cv2.waitKey(3)\n    if key == 27: break\n        \ncv2.destroyAllWindows()\nvideo.release()"
  },
  {
   "cell_type": "code",
   "execution_count": 74,
   "metadata": {},
   "outputs": [],
   "source": "video.release()\n"
  },
  {
   "cell_type": "code",
   "execution_count": 75,
   "metadata": {},
   "outputs": [],
   "source": "cv2.destroyAllWindows()\n\n"
  },
  {
   "cell_type": "code",
   "execution_count": 76,
   "metadata": {},
   "outputs": [
    {
     "data": {
      "text/plain": "[(447, 132)]"
     },
     "execution_count": 76,
     "metadata": {},
     "output_type": "execute_result"
    }
   ],
   "source": "nose"
  },
  {
   "cell_type": "code",
   "execution_count": null,
   "metadata": {},
   "outputs": [],
   "source": ""
  },
  {
   "cell_type": "code",
   "execution_count": null,
   "metadata": {},
   "outputs": [],
   "source": ""
  },
  {
   "cell_type": "code",
   "execution_count": null,
   "metadata": {},
   "outputs": [],
   "source": ""
  },
  {
   "cell_type": "code",
   "execution_count": null,
   "metadata": {},
   "outputs": [],
   "source": ""
  },
  {
   "cell_type": "code",
   "execution_count": null,
   "metadata": {},
   "outputs": [],
   "source": ""
  },
  {
   "cell_type": "code",
   "execution_count": null,
   "metadata": {},
   "outputs": [],
   "source": ""
  }
 ],
 "metadata": {
  "kernelspec": {
   "display_name": "penv",
   "language": "python",
   "name": "penv"
  },
  "language_info": {
   "codemirror_mode": {
    "name": "ipython",
    "version": 3
   },
   "file_extension": ".py",
   "mimetype": "text/x-python",
   "name": "python",
   "nbconvert_exporter": "python",
   "pygments_lexer": "ipython3",
   "version": "3.6.9"
  }
 },
 "nbformat": 4,
 "nbformat_minor": 4
}
